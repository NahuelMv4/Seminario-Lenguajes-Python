{
 "cells": [
  {
   "cell_type": "markdown",
   "metadata": {},
   "source": [
    "# Procesamiento de Datos de Lagos en Argentina\n",
    "\n",
    "Este script procesa un conjunto de datos de lagos en Argentina y agrega nuevas columnas al conjunto de datos procesado.\n",
    "\n",
    "### Importación de Módulos"
   ]
  },
  {
   "cell_type": "code",
   "execution_count": null,
   "metadata": {},
   "outputs": [],
   "source": [
    "import csv\n",
    "\n",
    "import sys\n",
    "sys.path.append(str(Path('..').resolve()))\n",
    "\n",
    "from data_process import lagos\n",
    "from pathlib import Path"
   ]
  },
  {
   "cell_type": "markdown",
   "metadata": {},
   "source": [
    "### Definición de constantes"
   ]
  },
  {
   "cell_type": "code",
   "execution_count": null,
   "metadata": {},
   "outputs": [],
   "source": [
    "NOMBRE = 0\n",
    "UBICACION = 1\n",
    "SUPERFICIE = 2\n",
    "PROFUNDIDAD_MAXIMA = 3\n",
    "PROFUNDIDAD_MEDIA = 4\n",
    "COORDENADAS  = 5"
   ]
  },
  {
   "cell_type": "markdown",
   "metadata": {},
   "source": [
    "### Lectura y escritura de archivos"
   ]
  },
  {
   "cell_type": "code",
   "execution_count": null,
   "metadata": {},
   "outputs": [],
   "source": [
    "read_dataset = Path('../datasets/lagos_arg.csv')\n",
    "write_dataset = Path ('../custom_data/lagos_arg.csv')\n",
    "\n",
    "with( \n",
    "        read_dataset.open (mode='r', encoding='UTF-8') as read_file,\n",
    "        write_dataset.open (mode='w', encoding='UTF-8', newline='') as write_file \n",
    "     ):\n",
    "    \n",
    "    reader_csv = csv.reader(read_file)\n",
    "    writer_csv = csv.writer (write_file)\n",
    "    \n",
    "    next(reader_csv)\n",
    "\n",
    "    # INGRESAR LAS NUEVAS COLUMNAS AL HEADER\n",
    "    header = [\"Nombre\", \"Ubicación\", \"Superficie (km2)\", \"Profundidad máxima (m)\", \n",
    "              \"Profundidad media (m)\", \"Latitud (GMS)\", \"Longitud (GMS)\", \n",
    "              \"Latitud (GD)\", \"Longitud (GD)\", \"Sup Tamaño\"]\n",
    "    writer_csv.writerow(header)\n",
    "\n",
    "\n",
    "\n",
    "    # RECORRER TODOS LOS LAGOS\n",
    "    for lago in reader_csv:  \n",
    "\n",
    "        # OBTENER EL TAMAÑO CORRESPONDIENTE. INGRESARLO EN UNA VARIABLE\n",
    "        sup_tamaño = lagos.calcular_sup_tamaño (float(lago[SUPERFICIE]))\n",
    "        \n",
    "        # OBTENER LA LATITUD Y LONGITUD EN DECIMALES. INGRESARLO EN UNA VARIABLE\n",
    "        latitud_gms = lago[COORDENADAS].split(' ')[0]\n",
    "        longitud_gms = lago[COORDENADAS].split(' ')[-1]\n",
    "\n",
    "        latitud_gd, longitud_gd = lagos.convertir_coordenadas (latitud_gms, longitud_gms)\n",
    "        \n",
    "        # INGRESAR LOS NUEVOS DATOS\n",
    "        lago_salida = [lago[NOMBRE], lago[UBICACION], lago[SUPERFICIE], lago[PROFUNDIDAD_MAXIMA],\n",
    "                       lago[PROFUNDIDAD_MEDIA], latitud_gms, longitud_gms, latitud_gd, longitud_gd, sup_tamaño]\n",
    "        writer_csv.writerow(lago_salida)\n"
   ]
  }
 ],
 "metadata": {
  "kernelspec": {
   "display_name": "Python 3",
   "language": "python",
   "name": "python3"
  },
  "language_info": {
   "codemirror_mode": {
    "name": "ipython",
    "version": 3
   },
   "file_extension": ".py",
   "mimetype": "text/x-python",
   "name": "python",
   "nbconvert_exporter": "python",
   "pygments_lexer": "ipython3",
   "version": "3.11.7"
  }
 },
 "nbformat": 4,
 "nbformat_minor": 2
}
