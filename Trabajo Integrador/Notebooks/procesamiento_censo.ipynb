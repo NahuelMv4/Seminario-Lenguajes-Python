{
 "cells": [
  {
   "cell_type": "markdown",
   "metadata": {},
   "source": [
    "# **Seminario de Lenguajes - Python: Trabajo Integrado Primera Parte**\n",
    "## **Procesamiento de datos - Incisio 4**"
   ]
  },
  {
   "cell_type": "markdown",
   "metadata": {},
   "source": [
    "### **1. Importación librerias**"
   ]
  },
  {
   "cell_type": "code",
   "execution_count": 9,
   "metadata": {},
   "outputs": [],
   "source": [
    "import csv\n",
    "from pathlib import Path"
   ]
  },
  {
   "cell_type": "markdown",
   "metadata": {},
   "source": [
    "### **2. Abrir y crear los archivos**\n",
    "Haciendo uso de `Path` abrimos el dataset del censo y creamos un nuevo dataset donde se almacenara el dataset original con algunas modificaciones"
   ]
  },
  {
   "cell_type": "code",
   "execution_count": 10,
   "metadata": {},
   "outputs": [],
   "source": [
    "path = Path(\"../datasets/c2022_tp_c_resumen_adaptado.csv\")\n",
    "newpath = Path(\"../custom_data/c2022_tp_c_resumen_adaptado_custom.csv\")"
   ]
  },
  {
   "cell_type": "markdown",
   "metadata": {},
   "source": [
    "### **3. Leer y escribr archivos CSV**\n",
    "Primero se lee el `header` del archivo de entrada y añadimos una nueva columna al encabezado del archivo de salida. Luego, con uso de un `for` se itera sobre cada fila del archivo de entrada, reemplazando los valores \"///\" y \"-\" por un 0 y calculando el porcentaje de población en situación de calle para cada fila. Finalmente se escriben las filas modificadas en el archivo de salida."
   ]
  },
  {
   "cell_type": "code",
   "execution_count": 11,
   "metadata": {},
   "outputs": [],
   "source": [
    "try:\n",
    "    # Abrir el archivo de entrada para lectura y el archivo de salida para escritura\n",
    "    with (path.open(mode='r', newline='', encoding='UTF-8') as entrada,\n",
    "          newpath.open(mode='w', newline='', encoding='UTF-8') as salida):\n",
    "\n",
    "        reader = csv.reader(entrada)\n",
    "        writer = csv.writer(salida)\n",
    "        header = next(reader)\n",
    "        header.append('Porcentaje de población en situación de calle')\n",
    "        writer.writerow(header)\n",
    "\n",
    "        for row in reader:\n",
    "            # Reemplazar los valores /// y - por un 0\n",
    "            custom_row = [\"0\" if (x in (\"///\") or x in (\"-\")) else x for x in row] \n",
    "            # Calcular el porcentaje de población en situación de calle pasando a float los digitos en las filas 4 y 1\n",
    "            if (float(custom_row[1]) != 0):\n",
    "                porcentaje = (float(custom_row[4]) / float(custom_row[1])) * 100\n",
    "            else:   \n",
    "                porcentaje = 0\n",
    "            custom_row.append(porcentaje)\n",
    "            writer.writerow(custom_row)\n",
    "\n",
    "except FileNotFoundError: # Manejar la excepción si el archivo de entrada no se encuentra\n",
    "    print(\"No se pudo encontrar el archivo.\")"
   ]
  },
  {
   "cell_type": "markdown",
   "metadata": {},
   "source": [
    "### **4. Manejo de excepciones**\n",
    "Se utiliza un bloque `try-except` para manejar la excepción `FileNotFoundError` en caso de no encontar el archivo CSV."
   ]
  },
  {
   "cell_type": "markdown",
   "metadata": {},
   "source": []
  }
 ],
 "metadata": {
  "kernelspec": {
   "display_name": "venv",
   "language": "python",
   "name": "python3"
  },
  "language_info": {
   "codemirror_mode": {
    "name": "ipython",
    "version": 3
   },
   "file_extension": ".py",
   "mimetype": "text/x-python",
   "name": "python",
   "nbconvert_exporter": "python",
   "pygments_lexer": "ipython3",
   "version": "3.11.7"
  }
 },
 "nbformat": 4,
 "nbformat_minor": 2
}
