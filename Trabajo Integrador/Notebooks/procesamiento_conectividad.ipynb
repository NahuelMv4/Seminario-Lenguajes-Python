{
 "cells": [
  {
   "cell_type": "markdown",
   "metadata": {},
   "source": [
    "# **Seminario de Lenguajes - Python: Trabajo Integrado Primera Parte**\n",
    "## **Procesamiento de datos - Incisio 2**"
   ]
  },
  {
   "cell_type": "markdown",
   "metadata": {},
   "source": [
    "### **1. Importación de módulos**"
   ]
  },
  {
   "cell_type": "code",
   "execution_count": 61,
   "metadata": {},
   "outputs": [],
   "source": [
    "import csv\n",
    "from pathlib import Path"
   ]
  },
  {
   "cell_type": "markdown",
   "metadata": {},
   "source": [
    "### **2. Definición de funciones**"
   ]
  },
  {
   "cell_type": "markdown",
   "metadata": {},
   "source": [
    "*2.1 `reemplazar_valores(fila)`*"
   ]
  },
  {
   "cell_type": "code",
   "execution_count": 62,
   "metadata": {},
   "outputs": [],
   "source": [
    "def reemplazar_valores(fila):\n",
    "    \"\"\"\n",
    "    Reemplaza los valores '--' por 'NO' en una fila del dataset.\n",
    "\n",
    "    Argsumentos:\n",
    "        fila: Lista que representa una fila del dataset.\n",
    "\n",
    "    Retorna:\n",
    "        None\n",
    "    \"\"\"\n",
    "    for i, valor in enumerate(fila):\n",
    "        if valor == \"--\":\n",
    "            fila[i] = \"NO\""
   ]
  },
  {
   "cell_type": "markdown",
   "metadata": {},
   "source": [
    "- Esta función toma una fila del dataset y reemplaza todos los valores '--' por 'NO'.\n",
    "- **Argumentos:**\n",
    "- `fila`: La fila del dataset que se va a procesar.\n",
    "- Itera sobre cada elemento de la fila usando la función enumerate para obtener tanto el índice como el valor. Si el valor es igual a '--', se reemplaza por 'NO'."
   ]
  },
  {
   "cell_type": "markdown",
   "metadata": {},
   "source": [
    "*2.2 `tiene_conectividad(fila)`*"
   ]
  },
  {
   "cell_type": "code",
   "execution_count": 63,
   "metadata": {},
   "outputs": [],
   "source": [
    "def tiene_conectividad(fila):\n",
    "    \"\"\"\n",
    "    Determina si una fila posee conectividad.\n",
    "\n",
    "    Args:\n",
    "        fila: Lista que representa una fila del dataset.\n",
    "\n",
    "    Retorna:\n",
    "        Un String 'SI' si la fila posee al menos un tipo de conectividad, 'NO' en caso contrario.\n",
    "    \"\"\"\n",
    "    conectividad = fila[4:13]  # Tomar solo los campos relevantes\n",
    "    for dato in conectividad:\n",
    "        if dato != \"NO\":\n",
    "            return \"SI\"\n",
    "    return \"NO\""
   ]
  },
  {
   "cell_type": "markdown",
   "metadata": {},
   "source": [
    "- Esta función determina si una fila posee conectividad, basándose en los valores de las columnas relevantes.\n",
    "- **Argumentos:**\n",
    "- `fila`: La fila del dataset que se va a analizar.\n",
    "- Selecciona solo los campos relevantes de la fila que indican la presencia de diferentes tipos de conectividad. Itera sobre estos campos. Si encuentra al menos un valor diferente de 'NO', retorna 'SI', indicando que hay conectividad. Si todos los valores son 'NO', retorna 'NO', indicando que no hay conectividad.\n",
    "- **Retorna:**\n",
    "- Un String 'SI' si la fila posee al menos un tipo de conectividad, 'NO' en caso contrario."
   ]
  },
  {
   "cell_type": "markdown",
   "metadata": {},
   "source": [
    "### **3. Lectura y escritura de archivos CSV**"
   ]
  },
  {
   "cell_type": "code",
   "execution_count": null,
   "metadata": {},
   "outputs": [],
   "source": [
    "# Rutas de los archivos CSV\n",
    "path = Path(\"../datasets/Conectividad_internet.csv\")\n",
    "newpath = Path(\"../custom_data/Conectividad_internet_modificado.csv\")\n",
    "\n",
    "# Leer el archivo CSV original y escribir en el nuevo con las modificaciones\n",
    "with (path.open(mode='r', newline='', encoding='UTF-8') as entrada,\n",
    "      newpath.open(mode='w', newline='', encoding='UTF-8') as salida):\n",
    "\n",
    "    reader = csv.reader(entrada)\n",
    "    writer = csv.writer(salida)\n",
    "\n",
    "    # Leer y escribir el encabezado\n",
    "    header = next(reader)\n",
    "    header.append('posee_conectividad')\n",
    "    writer.writerow(header)\n",
    "\n",
    "    # Procesar el resto de las filas\n",
    "    for fila in reader:\n",
    "        reemplazar_valores(fila)\n",
    "        posee_conectividad = tiene_conectividad(fila)\n",
    "        fila.append(posee_conectividad)\n",
    "        writer.writerow(fila)\n",
    "\n",
    "print(\"Archivo modificado creado con éxito:\", newpath)"
   ]
  },
  {
   "cell_type": "markdown",
   "metadata": {},
   "source": [
    "- **Rutas de los archivos CSV:** Se especifican las rutas de los archivos de entrada y salida.\n",
    "- **Lectura y escritura de archivos CSV:**\n",
    "- Se abre el archivo CSV original para lectura (`path`) y el nuevo archivo CSV para escritura (`newpath`).\n",
    "- Se configuran lectores y escritores CSV para leer y escribir los datos.\n",
    "- Se lee el encabezado del archivo original y se agrega una nueva columna llamada `posee_conectividad`.\n",
    "- Se procesan las filas restantes del archivo original:\n",
    "- Se reemplazan los valores '--' por 'NO' usando la función `reemplazar_valores`.\n",
    "- Se determina la conectividad de la fila con la función `tiene_conectividad`.\n",
    "- Se agrega el resultado al final de la fila.\n",
    "- Se escribe la fila modificada en el nuevo archivo CSV."
   ]
  }
 ],
 "metadata": {
  "kernelspec": {
   "display_name": "Python 3",
   "language": "python",
   "name": "python3"
  },
  "language_info": {
   "codemirror_mode": {
    "name": "ipython",
    "version": 3
   },
   "file_extension": ".py",
   "mimetype": "text/x-python",
   "name": "python",
   "nbconvert_exporter": "python",
   "pygments_lexer": "ipython3",
   "version": "3.11.7"
  }
 },
 "nbformat": 4,
 "nbformat_minor": 2
}
