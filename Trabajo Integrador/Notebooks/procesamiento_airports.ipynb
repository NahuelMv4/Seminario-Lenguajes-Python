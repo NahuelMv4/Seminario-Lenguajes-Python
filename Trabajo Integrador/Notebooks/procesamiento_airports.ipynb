{
 "cells": [
  {
   "cell_type": "markdown",
   "metadata": {},
   "source": [
    "# Procesamineto de archivo de aeropuertos\n",
    "---------------------------------------------------------------"
   ]
  },
  {
   "cell_type": "code",
   "execution_count": 34,
   "metadata": {},
   "outputs": [],
   "source": [
    "import csv\n",
    "from pathlib import Path\n",
    "#ACTUALIZO LA RUTA PARA PODER IMPORTAR MIS MODULOS A UTILIZAR.\n",
    "import sys\n",
    "sys.path.append(str(Path('..').resolve().parent.parent))\n",
    "from data_process import aeropuerto\n"
   ]
  },
  {
   "cell_type": "markdown",
   "metadata": {},
   "source": [
    "- Comenzamos importando las librerias que utilizaremos, la csv ya que trabajaremos con archivos estilo hoja de calculo y el pathlib para tener un mejor manejo de las rutas al momento de abrir un archivo."
   ]
  },
  {
   "cell_type": "code",
   "execution_count": 35,
   "metadata": {},
   "outputs": [],
   "source": [
    "path_airports= Path('../datasets/ar-airports.csv')\n",
    "path_prov = Path('../datasets/ar.csv')\n",
    "path_airports_custom = Path('../custom_data/ar-airports-custom.csv')"
   ]
  },
  {
   "cell_type": "markdown",
   "metadata": {},
   "source": [
    "- Creamos el path relativo de los 3 archivos que vamos a utilizar en el programa."
   ]
  },
  {
   "cell_type": "code",
   "execution_count": 36,
   "metadata": {},
   "outputs": [],
   "source": [
    "try:\n",
    "    with (\n",
    "        open(path_airports, 'r') as file_airports,\n",
    "        open(path_prov, 'r') as file_provs,\n",
    "        open(path_airports_custom, 'w') as file_custom\n",
    "    ):\n",
    "        #SETEO LOS READERS Y EL WRITER.\n",
    "        reader_airports = csv.reader(file_airports)\n",
    "        reader_prov = csv.reader(file_provs)\n",
    "        writer = csv.writer(file_custom)\n",
    "\n",
    "        #GUARDO EL HEADER PARA ESCRIBIR EL NUEVO ARCHIVO.\n",
    "        header= next(reader_airports)\n",
    "        #AGREGO AL HEADER LAS 2 NUEVAS COLUMNAS QUE VAMOS A UTILIZAR.\n",
    "        header.append('elevation_name')\n",
    "        header.append('prov_name')\n",
    "        #AGREGO HEADER.\n",
    "        writer.writerow(header)\n",
    "        #RECORRO CADA LINEA DEL ARCHIVO Y AGREGO SU RESPECTIVO VALOR EN LA COLUMNA CORRESPONDIENTE.\n",
    "        for line in reader_airports:\n",
    "            aeropuerto.elevation_name(line)\n",
    "            aeropuerto.prov_name(reader_prov, line)\n",
    "            #REALIZO UN SEEK PARA VOLVER AL INICIO DEL ARCHIVO PROVS, YA QUE EN LA FUNCION PROVNAME LO RECORRO.\n",
    "            file_provs.seek(0)\n",
    "            #ESCRIBO LA LINEA EN EL ARCHIVO CUSTOM.\n",
    "            writer.writerow(line)\n",
    "except FileNotFoundError as e:\n",
    "    print(f'Archivo no encontrado {e.filename} ')        "
   ]
  },
  {
   "cell_type": "markdown",
   "metadata": {},
   "source": [
    "- Utilizo un manejo de excepciones por si alguno de los 3 archivos que voy a usar no se llega a encontrar.\n",
    "- Utilizo el with que al momento de terminar de ejecutar el codigo dentro cerrara los 3 archivos que abri para realizar el inciso.\n",
    "- En orden primero cargo los readers de los archivos ar y ar-airports, y el write para crear el nuevo archivo airports.\n",
    "- Luego quiero el header de ar-airports para ser agregado al nuevo archivo, de paso agrego los ultimos 2 campos que voy a agregar en el inciso.\n",
    "- Por ultimo realizo un for que toma linea por linea la informacion que tiene ar-airports, con cada linea llamo a los modulos correspondientes que realizan el agregado de lo pedido en el inciso. Y para perarar la proxima carga hago un seek del archivo ar ya que dentro del modulo provName lo recorro hasta encontrar lo que busco."
   ]
  }
 ],
 "metadata": {
  "kernelspec": {
   "display_name": "Python 3 (ipykernel)",
   "language": "python",
   "name": "python3"
  },
  "language_info": {
   "codemirror_mode": {
    "name": "ipython",
    "version": 3
   },
   "file_extension": ".py",
   "mimetype": "text/x-python",
   "name": "python",
   "nbconvert_exporter": "python",
   "pygments_lexer": "ipython3",
   "version": "3.11.0rc1"
  }
 },
 "nbformat": 4,
 "nbformat_minor": 4
}
