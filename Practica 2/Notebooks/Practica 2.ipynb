{
 "cells": [
  {
   "cell_type": "markdown",
   "metadata": {},
   "source": [
    "# **Análisis de Estadísticas de Jugadores de Hockey Mixto 🏑📊**"
   ]
  },
  {
   "cell_type": "markdown",
   "metadata": {},
   "source": [
    "## **Funciones**"
   ]
  },
  {
   "cell_type": "markdown",
   "metadata": {},
   "source": [
    "- ### **generarEstructura**\n",
    "Esta función recibe cuatro listas como argumentos: `names`, `goals`, `goals_avoided` y `assists`, que contienen los nombres de los jugadores, la cantidad de goles, la cantidad de goles evitados y la cantidad de asistencias, respectivamente. Luego, crea un diccionario vacio donde cada clave es el nombre de un jugador y cada valor es otro diccionario con las estadísticas asociadas a ese jugador, incluyendo los goles, goles evitados y asistencias.\n",
    "\n",
    "Utilizando la función zip(), la función itera sobre las cuatro listas a la vez y combina los elementos correspondientes de cada una en cada iteración.\n",
    "\n",
    "Dentro del bucle for, se crea un diccionario para cada jugador, donde se almacena la información correspondiente a sus goles, goles evitados y asistencias. Este diccionario se agrega al diccionario estadisticas_jugadores, utilizando el nombre del jugador como clave.\n",
    "\n",
    "*Argumentos:*\n",
    "- names: Cadena de texto con los nombres de los jugadores separados por coma y espacio.\n",
    "\n",
    "- goals: Lista con la cantidad de goles de cada jugador.\n",
    "\n",
    "- goals_avoided: Lista con la cantidad de goles evitados de cada jugador.\n",
    "\n",
    "- assists: Lista con la cantidad de asistencias de cada jugador.\n",
    "    \n",
    "*Retorna:*\n",
    "- estadisticas_jugadores: Diccionario donde las claves son los nombres de los jugadores y los valores son diccionarios con las estadísticas asociadas a cada jugador."
   ]
  },
  {
   "cell_type": "code",
   "execution_count": null,
   "metadata": {},
   "outputs": [],
   "source": [
    "def generarEstructura(names, goals, goals_avoided, assists):\n",
    "    \"\"\"\n",
    "    Genera un diccionario con las estadísticas asociadas a cada jugador o jugadora utilizando la función zip.\n",
    "    \n",
    "    Argumentos:\n",
    "    - names: Cadena de texto con los nombres de los jugadores separados por coma y espacio.\n",
    "    - goals: Lista con la cantidad de goles de cada jugador.\n",
    "    - goals_avoided: Lista con la cantidad de goles evitados de cada jugador.\n",
    "    - assists: Lista con la cantidad de asistencias de cada jugador.\n",
    "    \n",
    "    Retorna:\n",
    "    - Diccionario donde las claves son los nombres de los jugadores y los valores son diccionarios con las estadísticas asociadas a cada jugador.\n",
    "    \"\"\"\n",
    "    estadisticas_jugadores = {}\n",
    "    for nombre, goles, goles_evitados, asistencias in zip(names.split(\", \"), goals, goals_avoided, assists):\n",
    "        estadisticas_jugadores[nombre] = {'Goles': goles, 'Goles Evitados': goles_evitados, 'Asistencias': asistencias}\n",
    "    return estadisticas_jugadores"
   ]
  },
  {
   "cell_type": "markdown",
   "metadata": {},
   "source": [
    "- ### **goleador**\n",
    "En esta función se utiliza la función `max()` para encontrar el máximo valor en el diccionario de `estadisticas_jugadores`. En este caso, se utiliza una función lambda para especificar que se quiere encontrar el máximo basado en el valor de la clave 'Goles' en cada entrada del diccionario.\n",
    "\n",
    "La expresión `lambda x: x['Goles']` define una función anónima que toma un diccionario x y devuelve el valor asociado a la clave 'Goles' en ese diccionario. Esta función lambda se aplica a cada elemento del diccionario `estadisticas_jugadores`, y luego `max()` encuentra el elemento con el máximo valor devuelto por esta función.\n",
    "\n",
    "Finalmente, se utiliza `list(estadisticas_jugadores.keys())[list(estadisticas_jugadores.values()).index(max_goles)]` para obtener el nombre del jugador asociado al máximo valor de goles encontrado.\n",
    "\n",
    "La función `goleador()` devuelve el nombre y la cantidad de goles del jugador que ha marcado más goles en la temporada en forma de tupla.\n",
    "\n",
    "*Argumentos:*\n",
    "- estadisticas_jugadores: Diccionario con las estadísticas asociadas a cada jugador.\n",
    "    \n",
    "*Retorna:*\n",
    "- Una tupla que contiene el nombre del goleador o goleadora y la cantidad de goles."
   ]
  },
  {
   "cell_type": "code",
   "execution_count": 48,
   "metadata": {},
   "outputs": [],
   "source": [
    "def goleador(estadisticas_jugadores):\n",
    "    \"\"\"\n",
    "    Devuelve el nombre y la cantidad de goles del goleador o goleadora.\n",
    "    \n",
    "    Argumentos:\n",
    "    - estadisticas_jugadores: Diccionario con las estadísticas asociadas a cada jugador.\n",
    "    \n",
    "    Retorna:\n",
    "    - Una tupla que contiene el nombre del goleador o goleadora y la cantidad de goles.\n",
    "    \"\"\"\n",
    "    max_goles = max(estadisticas_jugadores.values(), key=lambda x: x['Goles'])\n",
    "    return list(estadisticas_jugadores.keys())[list(estadisticas_jugadores.values()).index(max_goles)], max_goles['Goles']"
   ]
  },
  {
   "cell_type": "markdown",
   "metadata": {},
   "source": [
    "- ### **jugadorMasInfluyente**\n",
    "En esta función, se utiliza la función `max()` para encontrar el máximo valor en el diccionario de `estadisticas_jugadores`. Esta función de clave utiliza una expresión lambda para ponderar los goles, goles evitados y asistencias de cada jugador y luego devuelve el máximo valor de influencia.\n",
    "\n",
    "La función `jugadorMasInfluyente()` determina y devuelve el nombre del jugador o jugadora más influyente en función de sus estadísticas de goles, goles evitados y asistencias durante la temporada.\n",
    "\n",
    "*Argumentos:*\n",
    "- estadisticas_jugadores: Diccionario con las estadísticas asociadas a cada jugador.\n",
    "    \n",
    "*Retorna:*\n",
    "- El nombre del jugador o jugadora más influyente."
   ]
  },
  {
   "cell_type": "code",
   "execution_count": 49,
   "metadata": {},
   "outputs": [],
   "source": [
    "def jugadorMasInfluyente(estadisticas_jugadores):\n",
    "    \"\"\"\n",
    "    Devuelve el nombre del jugador o jugadora más influyente.\n",
    "    \n",
    "    Argumentos:\n",
    "    - estadisticas_jugadores: Diccionario con las estadísticas asociadas a cada jugador.\n",
    "    \n",
    "    Retorna:\n",
    "    - El nombre del jugador o jugadora más influyente.\n",
    "    \"\"\"\n",
    "    max_influencia = max(estadisticas_jugadores.values(), key=lambda x: 1.5 * x['Goles'] + 1.25 * x['Goles Evitados'] + x['Asistencias'])\n",
    "    return list(estadisticas_jugadores.keys())[list(estadisticas_jugadores.values()).index(max_influencia)]"
   ]
  },
  {
   "cell_type": "markdown",
   "metadata": {},
   "source": [
    "### **promedioDeGolesPorPartidoEquipo**\n",
    "Calcula el promedio de goles por partido del equipo en general, dado el total de goles (`goles_totales`) anotados en la temporada.\n",
    "\n",
    "*Argumentos:*\n",
    "- goles_totales: Cantidad total de goles anotados por el equipo.\n",
    "    \n",
    "*Retorna:*\n",
    "- El promedio de goles por partido del equipo en general."
   ]
  },
  {
   "cell_type": "code",
   "execution_count": 50,
   "metadata": {},
   "outputs": [],
   "source": [
    "def promedioDeGolesPorPartidoEquipo(goles_totales):\n",
    "    \"\"\"\n",
    "    Calcula el promedio de goles por partido del equipo en general.\n",
    "    \n",
    "    Argimentos:\n",
    "    - goles_totales: Cantidad total de goles anotados por el equipo.\n",
    "    \n",
    "    Retorna:\n",
    "    - El promedio de goles por partido del equipo en general.\n",
    "    \"\"\"\n",
    "    partidos_jugados = 25\n",
    "    return goles_totales / partidos_jugados"
   ]
  },
  {
   "cell_type": "markdown",
   "metadata": {},
   "source": [
    "### **promedioDeGolesPorPartidoGoleador**\n",
    "\n",
    "Esta función calcula el promedio de goles por partido del goleador o goleadora, dado el número de goles que anotó el goleador (`goles_goleador`) en la temporada.\n",
    "\n",
    "*Argumentos:*\n",
    "- goles_goleador: Cantidad de goles del goleador o goleadora.\n",
    "    \n",
    "*Retorna:*\n",
    "- El promedio de goles por partido del goleador o goleadora."
   ]
  },
  {
   "cell_type": "code",
   "execution_count": 51,
   "metadata": {},
   "outputs": [],
   "source": [
    "def promedioDeGolesPorPartidoGoleador(goles_goleador):\n",
    "    \"\"\"\n",
    "    Calcula el promedio de goles por partido del goleador o goleadora.\n",
    "    \n",
    "    Argumentos:\n",
    "    - goles_goleador: Cantidad de goles del goleador o goleadora.\n",
    "    \n",
    "    Retorna:\n",
    "    - El promedio de goles por partido del goleador o goleadora.\n",
    "    \"\"\"\n",
    "    partidos_jugados = 25\n",
    "    return goles_goleador / partidos_jugados"
   ]
  },
  {
   "cell_type": "markdown",
   "metadata": {},
   "source": [
    "## **Programa Principal (Main)**"
   ]
  },
  {
   "cell_type": "markdown",
   "metadata": {},
   "source": [
    "### **Datos a procesar**"
   ]
  },
  {
   "cell_type": "code",
   "execution_count": 52,
   "metadata": {},
   "outputs": [],
   "source": [
    "names = \"\"\" Agustin, Yanina, Andrés, Ariadna, Bautista, CAROLINA, \n",
    "CESAR, David, Diego, Dolores, DYLAN, ELIANA, Emanuel, Fabián, Noelia, \n",
    "Francsica, FEDERICO, Fernanda, GONZALO, Nancy \"\"\"\n",
    "goals = [0, 10, 4, 0, 5, 14, 0, 0, 7, 2, 1, 1, 1, 5, 6, 1, 1, 2, 0, 11]\n",
    "goals_avoided = [0, 2, 0, 0, 5, 2, 0, 0, 1, 2, 0, 5, 5, 0, 1, 0, 2, 3, 0, 0]\n",
    "assists = [0, 5, 1, 0, 5, 2, 0, 0, 1, 2, 1, 5, 5, 0, 1, 0, 2, 3, 1, 0]"
   ]
  },
  {
   "cell_type": "markdown",
   "metadata": {},
   "source": [
    "### **Invocar a las funciones y procesar los datos**\n",
    "\n",
    "1. Generar estadísticas asociadas a cada jugador o jugadora: Se llama a la función `generarEstructura` pasándole como argumentos los nombres de los jugadores, la cantidad de goles, la cantidad de goles evitados y la cantidad de asistencias.\n",
    "\n",
    "2. Obtener el nombre y la cantidad de goles del goleador o goleadora: Se llama a la función `goleador` pasándole como argumento el diccionario de estadísticas de los jugadores.\n",
    "\n",
    "3. Obtener el nombre del jugador más influyente: Se llama a la función `jugadorMasInfluyente` pasándole como argumento el diccionario de estadísticas de los jugadores.\n",
    "\n",
    "4. Obtener el promedio de goles por partido del equipo en general: Se calcula la suma total de los goles anotados por todo el equipo durante la temporada y se pasa ese valor como argumento a la función `promedioDeGolesPorPartidoEquipo`.\n",
    "\n",
    "5. Obtener el promedio de goles por partido del goleador o goleadora: Se pasa la cantidad de goles del goleador como argumento a la función `promedioDeGolesPorPartidoGoleador`.\n"
   ]
  },
  {
   "cell_type": "code",
   "execution_count": 53,
   "metadata": {},
   "outputs": [],
   "source": [
    "# Generar estadísticas asociadas a cada jugador o jugadora\n",
    "estadisticas_jugadores = generarEstructura(names, goals, goals_avoided, assists)\n",
    "\n",
    "# Obtener el nombre y la cantidad de goles del goleador o goleadora\n",
    "nombre_goleador, goles_goleador = goleador(estadisticas_jugadores)\n",
    "\n",
    "# Obtener el nombre del jugador más influyente\n",
    "nombre_influyente = jugadorMasInfluyente(estadisticas_jugadores)\n",
    "\n",
    "# Obtener el promedio de goles por partido del equipo en general\n",
    "promedio_goles_equipo = promedioDeGolesPorPartidoEquipo(sum(goals))\n",
    "\n",
    "# Obtener el promedio de goles por partido del goleador o goleadora\n",
    "promedio_goles_goleador = promedioDeGolesPorPartidoGoleador(goles_goleador)"
   ]
  },
  {
   "cell_type": "markdown",
   "metadata": {},
   "source": [
    "### **Imprimir los resultados**"
   ]
  },
  {
   "cell_type": "code",
   "execution_count": 54,
   "metadata": {},
   "outputs": [
    {
     "name": "stdout",
     "output_type": "stream",
     "text": [
      "Nombre del goleador: CAROLINA\n",
      "Cantidad de goles del goleador: 14\n",
      "Nombre del jugador mas influyente: CAROLINA\n",
      "Promedio de goles por partido del equipo en general: 2.84\n",
      "Promedio de goles por partido del goleador: 0.56\n"
     ]
    }
   ],
   "source": [
    "print(\"Nombre del goleador:\", nombre_goleador)\n",
    "print(\"Cantidad de goles del goleador:\", goles_goleador)\n",
    "print(\"Nombre del jugador mas influyente:\", nombre_influyente)\n",
    "print(\"Promedio de goles por partido del equipo en general:\", promedio_goles_equipo)\n",
    "print(\"Promedio de goles por partido del goleador:\", promedio_goles_goleador)"
   ]
  }
 ],
 "metadata": {
  "kernelspec": {
   "display_name": "venv",
   "language": "python",
   "name": "python3"
  },
  "language_info": {
   "codemirror_mode": {
    "name": "ipython",
    "version": 3
   },
   "file_extension": ".py",
   "mimetype": "text/x-python",
   "name": "python",
   "nbconvert_exporter": "python",
   "pygments_lexer": "ipython3",
   "version": "3.11.7"
  }
 },
 "nbformat": 4,
 "nbformat_minor": 2
}
